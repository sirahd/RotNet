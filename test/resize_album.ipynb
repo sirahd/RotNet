{
 "cells": [
  {
   "cell_type": "code",
   "execution_count": 13,
   "metadata": {},
   "outputs": [],
   "source": [
    "from PIL import Image\n",
    "import os, sys\n",
    "import glob"
   ]
  },
  {
   "cell_type": "code",
   "execution_count": 14,
   "metadata": {},
   "outputs": [],
   "source": [
    "def resize(filename):\n",
    "    im = Image.open(filename)\n",
    "    d, f = os.path.split(filename)\n",
    "    if im.width < im.height:\n",
    "        im = im.rotate(90, expand=True)\n",
    "    imResize = im.resize((336, 224))\n",
    "    imCrop = imResize.crop((56, 0, 280, 224))\n",
    "    imCrop.save(os.path.join('/Users/samhorradarn/Pictures/archive/1/resized', f))"
   ]
  },
  {
   "cell_type": "code",
   "execution_count": 12,
   "metadata": {},
   "outputs": [],
   "source": [
    "filenames = glob.glob('/Users/samhorradarn/Pictures/archive/1/processed/*.jpg')\n",
    "for f in filenames:\n",
    "    resize(f)"
   ]
  }
 ],
 "metadata": {
  "kernelspec": {
   "display_name": "venv",
   "language": "python",
   "name": "python3"
  },
  "language_info": {
   "codemirror_mode": {
    "name": "ipython",
    "version": 3
   },
   "file_extension": ".py",
   "mimetype": "text/x-python",
   "name": "python",
   "nbconvert_exporter": "python",
   "pygments_lexer": "ipython3",
   "version": "3.9.17"
  }
 },
 "nbformat": 4,
 "nbformat_minor": 2
}
